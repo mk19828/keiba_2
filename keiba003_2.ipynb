{
 "cells": [
  {
   "cell_type": "code",
   "execution_count": null,
   "metadata": {},
   "outputs": [],
   "source": [
    "##　初回　必須　　0001-01\n",
    "\n",
    "import numpy as np\n",
    "import pandas as pd\n",
    "import pickle\n",
    "import io"
   ]
  },
  {
   "cell_type": "code",
   "execution_count": null,
   "metadata": {},
   "outputs": [],
   "source": [
    "###　初回　必須　　0010-10\n",
    "### アンロード\n",
    "race_info = pd.read_pickle('data/race_info.pickle')\n",
    "race_results = pd.read_pickle('data/race_results.pickle')\n",
    "horse_info = pd.read_pickle('data/horse_info.pickle')\n",
    "horse_peds = pd.read_pickle('data/horse_peds.pickle')\n",
    "race_return = pd.read_pickle('data/race_return.pickle')"
   ]
  },
  {
   "cell_type": "code",
   "execution_count": null,
   "metadata": {},
   "outputs": [],
   "source": [
    "###　初回　必須　　0011-10\n",
    "###　------------------------------\n",
    "### 対象のrace_resultsを抽出　－－＞　taisho_race　とする\n",
    "###　------------------------------\n",
    "###　----------分析用データの条件設定(ｔａｉｓｈｏ＿ｒａｃｅの処理)\n",
    "taisho_race = race_results[(race_results['kaisai_nen'] == '2023') & (race_results['data_kubun'] == '7')]\n",
    "#taisho_race = race_results[race_results['kaisai_nen'] == '2023']\n",
    "taisho_race['ketto_toroku_bango'] = taisho_race['ketto_toroku_bango'].astype('int')\n",
    "#＞＞＞## 対象のrace_resultsのキー情報抽出\n",
    "#＞＞＞taisho_race = taisho_race.loc[:, [\"ketto_toroku_bango\", \"race_nengappi\"]]\n",
    "###　レース年月日を日付タイプへ　かつ変数名を　date　へ\n",
    "taisho_race[\"date\"] = pd.to_datetime(taisho_race[\"race_nengappi\"])\n",
    "taisho_race.drop([\"race_nengappi\"],axis=1,inplace=True)\n",
    "\n"
   ]
  },
  {
   "cell_type": "code",
   "execution_count": null,
   "metadata": {},
   "outputs": [],
   "source": [
    "### 不要\n",
    "taisho_race = taisho_race.loc['202306050811']"
   ]
  },
  {
   "cell_type": "code",
   "execution_count": null,
   "metadata": {},
   "outputs": [],
   "source": [
    "###　初回必須　　0012-10\n",
    "###　----------horse_infoのインデックスを血統登録番号へ　　将来的には_１へ移す？\n",
    "horse_info = horse_info.reset_index('race_id')\n",
    "horse_info = horse_info.set_index('ketto_toroku_bango')\n"
   ]
  },
  {
   "cell_type": "code",
   "execution_count": null,
   "metadata": {},
   "outputs": [],
   "source": [
    "###　初回必須　　0020-01\n",
    "from tqdm.notebook import tqdm\n",
    "\n",
    "class HorseResults:\n",
    "    def __init__(self, horse_info_):\n",
    "        self.horse_results = horse_info_[['race_nengappi','kakutei_chakujun','tansho_odds','kakutoku_honshokin','kohan_3f']]\n",
    "        self.preprocessing()\n",
    "        \n",
    "    def preprocessing(self):\n",
    "        df = self.horse_results.copy()\n",
    "        df['date'] = pd.to_datetime(df[\"race_nengappi\"],format='%Y%m%d')\n",
    "        df.drop([\"race_nengappi\"],axis=1,inplace=True)\n",
    "        self.horse_results = df\n",
    "\n",
    "    def average(self, horse_id_list, date, n_samples='all'):\n",
    "        target_df = self.horse_results.loc[horse_id_list]\n",
    "#        target_df = target_df.set_index('ketto_toroku_bango') \n",
    "\n",
    "        #過去何走分取り出すか指定\n",
    "        if n_samples == 'all':\n",
    "            filterd_df = target_df[target_df['date'] < date]    \n",
    "        elif n_samples > 0:\n",
    "            filterd_df = target_df[target_df['date'] < date].sort_values\\\n",
    "                ('date',ascending=False).groupby(level=0).head(n_samples)\n",
    "        else:\n",
    "            raise Exception('n_samples must be >0')\n",
    "        average = filterd_df.groupby(level=0)[['kakutei_chakujun','kakutoku_honshokin','kohan_3f']].mean()\n",
    "        return average.rename(columns=\\\n",
    "                              {'kakutei_chakujun':'chakujun_{}R'.format(n_samples),\\\n",
    "                               'kakutoku_honshokin':'shokin_{}R'.format(n_samples),\\\n",
    "                               'kohan_3f':'kohan_3f_{}R'.format(n_samples)})\n",
    "    \n",
    "    def merge(self, results, date, n_samples='all'):\n",
    "        df = results[results['date'] == date]\n",
    "        df.reset_index(inplace=True)\n",
    "        horse_id_list = df['ketto_toroku_bango']\n",
    "        merged_df = df.merge(self.average(horse_id_list, date, n_samples),\\\n",
    "                             left_on='ketto_toroku_bango',right_index=True,how='left')\n",
    "        return merged_df\n",
    "    \n",
    "    def merge_all(self, results, n_samples='all'):\n",
    "        date_list = results['date'].unique()\n",
    "        merged_df = pd.concat([self.merge(results, date, n_samples) for date in tqdm(date_list)])\n",
    "        return merged_df"
   ]
  },
  {
   "cell_type": "code",
   "execution_count": null,
   "metadata": {},
   "outputs": [],
   "source": [
    "hr = HorseResults(horse_info)\n",
    "results_3R = hr.merge_all(taisho_race,n_samples=3)\n",
    "results_3R.set_index('race_id', inplace=True)\n",
    "results_5R = hr.merge_all(results_3R,n_samples=5)\n",
    "results_5R.set_index('race_id', inplace=True)\n",
    "results_9R = hr.merge_all(results_5R,n_samples=9)\n",
    "results_9R.set_index('race_id', inplace=True)\n",
    "results_9R.head()"
   ]
  },
  {
   "cell_type": "code",
   "execution_count": null,
   "metadata": {},
   "outputs": [],
   "source": [
    "###　オブジェクトをいったん変数へ\n",
    "#model_input = hr.merge_all(taisho_race)\n",
    "model_input = results_9R\n",
    "###　必要に応じて保存　日付変更\n",
    "model_input.to_pickle('data/model_input_20240406.pickle')"
   ]
  },
  {
   "cell_type": "code",
   "execution_count": 18,
   "metadata": {},
   "outputs": [],
   "source": [
    "###　再開時、ここからロード\n",
    "model_input = pd.read_pickle('data/model_input_20240406.pickle')"
   ]
  },
  {
   "cell_type": "code",
   "execution_count": 19,
   "metadata": {},
   "outputs": [],
   "source": [
    "### 型変換　基本ｉｎｔ\n",
    "#model_input['record_id'] = model_input['record_id'].astype(int)\n",
    "model_input['keibajo_code'] = model_input['keibajo_code'].astype('category')\n",
    "model_input['kaisai_kai'] = model_input['kaisai_kai'].astype(int)\n",
    "model_input['kaisai_nichime'] = model_input['kaisai_nichime'].astype(int)\n",
    "model_input['race_bango'] = model_input['race_bango'].astype(int)\n",
    "model_input['wakuban'] = model_input['wakuban'].astype(int)\n",
    "model_input['umaban'] = model_input['umaban'].astype(int)\n",
    "model_input['ketto_toroku_bango'] = model_input['ketto_toroku_bango'].astype('category')\n",
    "#model_input['bamei'] = model_input['bamei'].astype(int)\n",
    "model_input['umakigo_code'] = model_input['umakigo_code'].astype('category')\n",
    "model_input['seibetsu_code'] = model_input['seibetsu_code'].astype('category')\n",
    "model_input['hinshu_code'] = model_input['hinshu_code'].astype('category')\n",
    "model_input['barei'] = model_input['barei'].astype(int)\n",
    "model_input['tozai_shozoku_code'] = model_input['tozai_shozoku_code'].astype('category')\n",
    "model_input['chokyoshi_code'] = model_input['chokyoshi_code'].astype('category')\n",
    "model_input['banushi_code'] = model_input['banushi_code'].astype('category')\n",
    "model_input['futan_juryo'] = model_input['futan_juryo'].astype(int)\n",
    "model_input['kishu_code'] = model_input['kishu_code'].astype('category')\n",
    "model_input['bataiju'] = model_input['bataiju'].astype(int)\n",
    "#model_input['zogen_fugo'] = model_input['zogen_fugo'].astype(int)\n",
    "#model_input['zogen_sa'] = model_input['zogen_sa'].astype(int)\n",
    "model_input['kakutei_chakujun'] = model_input['kakutei_chakujun'].astype(int)\n",
    "model_input['soha_time'] = model_input['soha_time'].astype(int)\n",
    "#model_input['chakusa_code_1'] = model_input['chakusa_code_1'].astype(int)\n",
    "model_input['corner_1'] = model_input['corner_1'].astype(int)\n",
    "model_input['corner_2'] = model_input['corner_2'].astype(int)\n",
    "model_input['corner_3'] = model_input['corner_3'].astype(int)\n",
    "model_input['corner_4'] = model_input['corner_4'].astype(int)\n",
    "model_input['tansho_odds'] = model_input['tansho_odds'].astype(int)\n",
    "model_input['tansho_ninkijun'] = model_input['tansho_ninkijun'].astype(int)\n",
    "model_input['kakutoku_honshokin'] = model_input['kakutoku_honshokin'].astype(int)\n",
    "#model_input['kakutoku_fukashokin'] = model_input['kakutoku_fukashokin'].astype(int)\n",
    "model_input['kohan_4f'] = model_input['kohan_4f'].astype(int)\n",
    "model_input['kohan_3f'] = model_input['kohan_3f'].astype(int)\n",
    "#model_input['time_sa'] = model_input['time_sa'].astype(int)\n",
    "#model_input['mining_kubun'] = model_input['mining_kubun'].astype('category')\n",
    "#model_input['yoso_soha_time'] = model_input['yoso_soha_time'].astype(int)\n",
    "#model_input['yoso_gosa_plus'] = model_input['yoso_gosa_plus'].astype('category')\n",
    "#model_input['yoso_gosa_minus'] = model_input['yoso_gosa_minus'].astype('category')\n",
    "#model_input['yoso_juni'] = model_input['yoso_juni'].astype(int)\n",
    "#model_input['kyakushitsu_hantei'] = model_input['kyakushitsu_hantei'].astype('category')\n"
   ]
  },
  {
   "cell_type": "code",
   "execution_count": 20,
   "metadata": {},
   "outputs": [],
   "source": [
    "###　目的変数の設定　4着以下はすべて４\n",
    "clip_rank = lambda x: x if x<4 else 4\n",
    "model_input['rank'] = model_input['kakutei_chakujun'].map(clip_rank)\n",
    "\n",
    "###　着順０は除外\n",
    "model_input = model_input[model_input['kakutei_chakujun'] > 0]"
   ]
  },
  {
   "cell_type": "code",
   "execution_count": 21,
   "metadata": {},
   "outputs": [],
   "source": [
    "###　説明変数候補以外はドロップ\n",
    "model_input.drop(['record_id',\\\n",
    "                  'data_kubun',\\\n",
    "                  'data_sakusei_nengappi',\\\n",
    "                  'kaisai_nen',\\\n",
    "                  'kaisai_tsukihi',\\\n",
    "                  'kaisai_nichime',\\\n",
    "                  'race_bango',\\\n",
    "                  'bamei',\\\n",
    "                  'zogen_fugo',\\\n",
    "                  'zogen_sa',\\\n",
    "                  'soha_time',\\\n",
    "                  'chakusa_code_1',\\\n",
    "                  'date',\\\n",
    "                  'corner_1',\\\n",
    "                  'corner_2',\\\n",
    "                  'corner_3',\\\n",
    "                  'corner_4',\\\n",
    "                  'ketto_toroku_bango',\\\n",
    "                  'umakigo_code',\\\n",
    "                  'hinshu_code',\\\n",
    "                  'kakutei_chakujun',\\\n",
    "                  'tansho_odds',\\\n",
    "                  'tansho_ninkijun',\\\n",
    "                  'kakutoku_honshokin',\\\n",
    "                  'kakutoku_fukashokin',\\\n",
    "                  'kohan_4f',\\\n",
    "                  'kohan_3f',\\\n",
    "                  'time_sa',\\\n",
    "                  'mining_kubun',\\\n",
    "                  'yoso_soha_time',\\\n",
    "                  'yoso_gosa_plus',\\\n",
    "                  'yoso_gosa_minus',\\\n",
    "                  'yoso_juni',\\\n",
    "                  'kyakushitsu_hantei'\\\n",
    "                  ],axis=1,inplace=True)"
   ]
  },
  {
   "cell_type": "code",
   "execution_count": 22,
   "metadata": {},
   "outputs": [],
   "source": [
    "## カテゴリ変数をＤＵＭＭＹ化\n",
    "model_input_d = pd.get_dummies(model_input)"
   ]
  },
  {
   "cell_type": "code",
   "execution_count": 23,
   "metadata": {},
   "outputs": [],
   "source": [
    "###　初期値を０埋め\n",
    "model_input_d.fillna(0,inplace=True)"
   ]
  },
  {
   "cell_type": "code",
   "execution_count": 24,
   "metadata": {},
   "outputs": [],
   "source": [
    "###　モデル実施　データをトレーニング、テストにわける\n",
    "from sklearn.linear_model import LogisticRegression\n",
    "from sklearn.model_selection import train_test_split\n",
    "\n",
    "X = model_input_d.drop(['rank'],axis=1)\n",
    "y = model_input_d['rank']\n",
    "\n",
    "X_train, X_test, y_train, y_test = train_test_split(X,y,stratify=y,test_size=0.3,random_state=0)"
   ]
  },
  {
   "cell_type": "code",
   "execution_count": 27,
   "metadata": {},
   "outputs": [
    {
     "data": {
      "text/plain": [
       "rank\n",
       "0    36898\n",
       "1    10376\n",
       "Name: count, dtype: int64"
      ]
     },
     "execution_count": 27,
     "metadata": {},
     "output_type": "execute_result"
    }
   ],
   "source": [
    "model_input_d['rank'].value_counts()"
   ]
  },
  {
   "cell_type": "code",
   "execution_count": 26,
   "metadata": {},
   "outputs": [],
   "source": [
    "clip_rank = lambda x: 1 if x<4 else 0\n",
    "model_input_d['rank'] = model_input_d['rank'].map(clip_rank)"
   ]
  },
  {
   "cell_type": "code",
   "execution_count": 28,
   "metadata": {},
   "outputs": [],
   "source": [
    "#　サンプル数を変更　4着以下を　１，２，３着と同数にする\n",
    "\n",
    "from imblearn.under_sampling import RandomUnderSampler\n",
    "\n",
    "rank_1 = y_train.value_counts()[1]\n",
    "rank_2 = y_train.value_counts()[2]\n",
    "rank_3 = y_train.value_counts()[3]\n",
    "\n",
    "rus = RandomUnderSampler(sampling_strategy={1:rank_1,2:rank_2,3:rank_3,4:rank_1},random_state=71)\n",
    "X_train_rus,y_train_rus = rus.fit_resample(X_train,y_train)"
   ]
  },
  {
   "cell_type": "code",
   "execution_count": null,
   "metadata": {},
   "outputs": [],
   "source": [
    "clip_rank = lambda x: 1 if x<4 else 0\n",
    "model_input_d['rank'] = model_input_d['rank'].map(clip_rank)"
   ]
  },
  {
   "cell_type": "code",
   "execution_count": null,
   "metadata": {},
   "outputs": [],
   "source": [
    "model_input_d['rank'].head()"
   ]
  },
  {
   "cell_type": "code",
   "execution_count": null,
   "metadata": {},
   "outputs": [],
   "source": [
    "pd.Series(y_train_rus).value_counts()"
   ]
  },
  {
   "cell_type": "code",
   "execution_count": null,
   "metadata": {},
   "outputs": [],
   "source": [
    "###　モデル実施　データをトレーニング、テストにわける\n",
    "from sklearn.linear_model import LogisticRegression\n",
    "from sklearn.model_selection import train_test_split\n",
    "\n",
    "X = model_input_d.drop(['rank'],axis=1)\n",
    "y = model_input_d['rank']\n",
    "\n",
    "X_train, X_test, y_train, y_test = train_test_split(X,y,stratify=y,test_size=0.3,random_state=0)"
   ]
  },
  {
   "cell_type": "code",
   "execution_count": null,
   "metadata": {},
   "outputs": [],
   "source": [
    "model = LogisticRegression()\n",
    "model.fit(X_train_rus,y_train_rus)\n",
    "\n",
    "print(model.score(X_train,y_train),model.score(X_test,y_test))"
   ]
  },
  {
   "cell_type": "code",
   "execution_count": null,
   "metadata": {},
   "outputs": [],
   "source": [
    "#date_listy_pred = model.predict(X_test)\n",
    "y_pred = model.predict_proba(X_test)"
   ]
  },
  {
   "cell_type": "code",
   "execution_count": null,
   "metadata": {},
   "outputs": [],
   "source": [
    "y_pred"
   ]
  },
  {
   "cell_type": "code",
   "execution_count": null,
   "metadata": {},
   "outputs": [],
   "source": [
    "pred_df = pd.DataFrame({'pred':y_pred,'actual':y_test})"
   ]
  },
  {
   "cell_type": "code",
   "execution_count": null,
   "metadata": {},
   "outputs": [],
   "source": [
    "pred_df[pred_df['pred']==1]['actual'].value_counts()"
   ]
  },
  {
   "cell_type": "code",
   "execution_count": null,
   "metadata": {},
   "outputs": [],
   "source": [
    "coefs = pd.Series(model.coef_[0],index=X.columns).sort_values()"
   ]
  },
  {
   "cell_type": "code",
   "execution_count": null,
   "metadata": {},
   "outputs": [],
   "source": [
    "coefs"
   ]
  },
  {
   "cell_type": "code",
   "execution_count": null,
   "metadata": {},
   "outputs": [],
   "source": [
    "#model_input[model_input['race_id'] == '2023010506010101'].to_csv('model_input_sel.csv')\n",
    "model_input.loc['2023010506010101'].to_csv('model_input_sel.csv')\n"
   ]
  },
  {
   "cell_type": "code",
   "execution_count": null,
   "metadata": {},
   "outputs": [],
   "source": [
    "###　？？？\n",
    "sample_date = taisho_race['date'][0]\n",
    "\n",
    "##\n",
    "## date taisho_race の　date　を　日付で　ソート　＆　重複けし\n",
    "## 日付がなくなるまで　ＦＯＲで繰り返す\n",
    "sample_date"
   ]
  },
  {
   "cell_type": "code",
   "execution_count": null,
   "metadata": {},
   "outputs": [],
   "source": [
    "horse_id_list = taisho_race[taisho_race['date'] == sample_date]['ketto_toroku_bango'].unique()"
   ]
  },
  {
   "cell_type": "code",
   "execution_count": null,
   "metadata": {},
   "outputs": [],
   "source": [
    "#日付取得\n",
    "sample_date = taisho_race['date'][0]\n",
    "#対象馬リスト　その日走った馬\n",
    "horse_id_list = taisho_race[taisho_race['date'] == sample_date]['ketto_toroku_bango'].unique()\n",
    "#　LOCがうまくいかないのでＬＩＳＴ２作成\n",
    "horse_id_list2 = pd.DataFrame(horse_id_list,columns=['ketto_toroku_bango'])\n",
    "#type(horse_id_list2)\n",
    "horse_id_list2['ketto_toroku_bango'] = horse_id_list2['ketto_toroku_bango'].astype('int')\n",
    "\n",
    "#　候補ｒｅｓｕｌｔｓ　を自力で作成\n",
    "kouho_results = pd.merge(horse_id_list2,hr.horse_results,left_on='ketto_toroku_bango',right_on='ketto_toroku_bango',how='left')\n",
    "#hr.horse_results[(hr.horse_results.index == '2016106582')]\n",
    "kouho_results = kouho_results.set_index('ketto_toroku_bango')"
   ]
  },
  {
   "cell_type": "code",
   "execution_count": null,
   "metadata": {},
   "outputs": [],
   "source": [
    "#hr.horse_results.loc[horse_id_list2]\n",
    "hr.preprocessing()"
   ]
  },
  {
   "cell_type": "code",
   "execution_count": null,
   "metadata": {},
   "outputs": [],
   "source": [
    "target_df = kouho_results\n",
    "target_df[target_df['date'] < sample_date].groupby(level=0)[['kakutei_chakujun','kakutoku_honshokin','kohan_3f']].mean()"
   ]
  },
  {
   "cell_type": "code",
   "execution_count": null,
   "metadata": {},
   "outputs": [],
   "source": [
    "#horse_info['race_nengappi'].value_counts()\n",
    "#horse_info['date'] = pd.to_datetime(horse_info[\"race_nengappi\"])\n",
    "#horse_info.isnull().sum()\n",
    "horse_info['race_nengappi']\n",
    "taisho_race"
   ]
  },
  {
   "cell_type": "code",
   "execution_count": null,
   "metadata": {},
   "outputs": [],
   "source": [
    "horse_info = pd.read_pickle('horse_info.pickle')\n",
    "#　馬情報テーブルにレース年月日追加\n",
    "horse_info = horse_info[horse_info['data_kubun'] == '7']\n",
    "#　馬情報項目セレクト\n",
    "race_data_sel = horse_info[['ketto_toroku_bango',\\\n",
    "                           'kakutei_chakujun',\\\n",
    "                           'corner_1',\\\n",
    "                           'corner_4',\\\n",
    "                           'tansho_odds',\\\n",
    "                            'tansho_ninkijun',\\\n",
    "                           'kakutoku_honshokin',\\\n",
    "                            'kohan_3f',\\\n",
    "                            'time_sa',\\\n",
    "                            'yoso_juni',\\\n",
    "                            'kyakushitsu_hantei',\\\n",
    "                            'race_nengappi']]\n",
    "race_data_sel['ketto_toroku_bango'] = race_data_sel['ketto_toroku_bango'].astype('int')\n",
    "race_data_sel['kakutei_chakujun'] = race_data_sel['kakutei_chakujun'].astype('int')\n",
    "race_data_sel['corner_1'] = race_data_sel['corner_1'].astype('int')\n",
    "race_data_sel['corner_4'] = race_data_sel['corner_4'].astype('int')\n",
    "race_data_sel['tansho_odds'] = race_data_sel['tansho_odds'].astype('int')\n",
    "race_data_sel['tansho_ninkijun'] = race_data_sel['tansho_ninkijun'].astype('int')\n",
    "race_data_sel['kakutoku_honshokin'] = race_data_sel['kakutoku_honshokin'].astype('int')\n",
    "race_data_sel['time_sa'] = race_data_sel['time_sa'].astype('int')\n",
    "race_data_sel['kohan_3f'] = race_data_sel['kohan_3f'].astype('int')\n",
    "race_data_sel['yoso_juni'] = race_data_sel['yoso_juni'].astype('int')\n",
    "race_data_sel['kyakushitsu_hantei'] = race_data_sel['kyakushitsu_hantei'].astype('int')\n",
    "race_data_sel['race_nengappi'] = race_data_sel['race_nengappi'].astype('int')\n",
    "race_data_sel.isnull().sum()\n",
    "horse_info['tansho_odds'].value_counts"
   ]
  },
  {
   "cell_type": "code",
   "execution_count": null,
   "metadata": {},
   "outputs": [],
   "source": [
    "race_data_sel['tansho_odds'].value_counts()\n"
   ]
  },
  {
   "cell_type": "code",
   "execution_count": null,
   "metadata": {},
   "outputs": [],
   "source": [
    "horse_info = pd.read_csv('horse_info.csv')\n",
    "horse_info['tansho_odds'].value_counts()"
   ]
  },
  {
   "cell_type": "code",
   "execution_count": null,
   "metadata": {},
   "outputs": [],
   "source": [
    "### key_info \n",
    "taisho_race = race_data[race_data['kaisai_nen'] == '2023']\n",
    "taisho_race = taisho_race.loc[:, [\"ketto_toroku_bango\", \"race_nengappi\"]]\n",
    "taisho_race.head"
   ]
  }
 ],
 "metadata": {
  "kernelspec": {
   "display_name": "Python 3",
   "language": "python",
   "name": "python3"
  },
  "language_info": {
   "codemirror_mode": {
    "name": "ipython",
    "version": 3
   },
   "file_extension": ".py",
   "mimetype": "text/x-python",
   "name": "python",
   "nbconvert_exporter": "python",
   "pygments_lexer": "ipython3",
   "version": "3.12.2"
  }
 },
 "nbformat": 4,
 "nbformat_minor": 2
}
