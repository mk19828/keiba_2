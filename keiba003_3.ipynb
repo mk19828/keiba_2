{
 "cells": [
  {
   "cell_type": "code",
   "execution_count": null,
   "metadata": {},
   "outputs": [],
   "source": [
    "##　初回　必須　　0001-01\n",
    "\n",
    "import numpy as np\n",
    "import pandas as pd\n",
    "import pickle\n",
    "import io"
   ]
  },
  {
   "cell_type": "code",
   "execution_count": null,
   "metadata": {},
   "outputs": [],
   "source": [
    "###　初回　必須　　0010-10\n",
    "### アンロード\n",
    "race_info = pd.read_pickle('race_info.pickle')\n",
    "race_results = pd.read_pickle('race_results.pickle')\n",
    "horse_info = pd.read_pickle('horse_info.pickle')"
   ]
  },
  {
   "cell_type": "code",
   "execution_count": null,
   "metadata": {},
   "outputs": [],
   "source": [
    "#race_results = pd.read_pickle('race_results.pickle')\n",
    "taisho_race_2023 = race_results[(race_results['kaisai_nen'] == '2023') & (race_results['data_kubun'] == '7')]"
   ]
  },
  {
   "cell_type": "code",
   "execution_count": null,
   "metadata": {},
   "outputs": [],
   "source": [
    "taisho_race_sample = taisho_race_2023.sort_values('ketto_toroku_bango')"
   ]
  },
  {
   "cell_type": "code",
   "execution_count": null,
   "metadata": {},
   "outputs": [],
   "source": [
    "#taisho_race_sample = taisho_race_sample.head(100)\n",
    "taisho_race_sample.reset_index()\n",
    "taisho_race_sample = taisho_race_sample.set_index('ketto_toroku_bango')\n",
    "#taisho_race_sample.info()\n"
   ]
  },
  {
   "cell_type": "code",
   "execution_count": null,
   "metadata": {},
   "outputs": [],
   "source": [
    "taisho_race_sample = taisho_race_sample.reindex(columns=[\\\n",
    "                \"kakutei_chakujun\",\\\n",
    "                \"kohan_3f\",\\\n",
    "                \"race_nengappi\"\\\n",
    "                ])"
   ]
  },
  {
   "cell_type": "code",
   "execution_count": null,
   "metadata": {},
   "outputs": [],
   "source": [
    "taisho_race_sample['piv'] = \"piv_\"\n",
    "taisho_race_sample['count'] = taisho_race_sample.groupby('ketto_toroku_bango').cumcount()+1\n",
    "taisho_race_sample['count'] = taisho_race_sample['count'].astype(str)\n",
    "taisho_race_sample['piv_count'] = taisho_race_sample['piv'] + taisho_race_sample['count']"
   ]
  },
  {
   "cell_type": "code",
   "execution_count": 37,
   "metadata": {},
   "outputs": [
    {
     "data": {
      "text/plain": [
       "                  ketto_toroku_bango  piv_count\n",
       "kakutei_chakujun  2011106610          piv_1        10\n",
       "                                      piv_2        11\n",
       "                                      piv_3        11\n",
       "                                      piv_4        08\n",
       "                                      piv_5        11\n",
       "                                                   ..\n",
       "count             2021110160          piv_1         1\n",
       "                                      piv_2         2\n",
       "                  2021110161          piv_1         1\n",
       "                                      piv_2         2\n",
       "                                      piv_3         3\n",
       "Length: 238360, dtype: object"
      ]
     },
     "execution_count": 37,
     "metadata": {},
     "output_type": "execute_result"
    }
   ],
   "source": [
    "taisho_race_sample_yoko = taisho_race_sample.reset_index()\n",
    "taisho_race_sample_yoko = taisho_race_sample_yoko.set_index(['ketto_toroku_bango','piv_count'])\n",
    "taisho_race_sample_yoko = taisho_race_sample_yoko.unstack(level=[0,1])\n",
    "taisho_race_sample_yoko"
   ]
  },
  {
   "cell_type": "code",
   "execution_count": null,
   "metadata": {},
   "outputs": [],
   "source": [
    "\n",
    "taisho_race_sample_yoko\n"
   ]
  },
  {
   "cell_type": "code",
   "execution_count": null,
   "metadata": {},
   "outputs": [],
   "source": []
  },
  {
   "cell_type": "code",
   "execution_count": null,
   "metadata": {},
   "outputs": [],
   "source": []
  },
  {
   "cell_type": "code",
   "execution_count": null,
   "metadata": {},
   "outputs": [],
   "source": [
    "taisho_race_2023['zogen_sa'] = pd.to_numeric(taisho_race_2023['zogen_sa'] ,errors='coerce')\n",
    "taisho_race_2023.fillna(0,inplace=True)\n",
    "#taisho_race_2023['zogen_fugo'] = taisho_race_2023['zogen_fugo'].astype(str)\n",
    "taisho_race_2023['体重変化'] = taisho_race_2023.apply(\\\n",
    "        lambda x: x['zogen_sa'] if x['zogen_fugo'] != '-' else x['zogen_sa'] * -1,\\\n",
    "                    axis=1)"
   ]
  },
  {
   "cell_type": "code",
   "execution_count": null,
   "metadata": {},
   "outputs": [],
   "source": [
    "taisho_race_2023.drop([\"record_id\",\\\n",
    "        \"data_kubun\",\\\n",
    "        \"data_sakusei_nengappi\",\\\n",
    "        \"kaisai_nen\",\\\n",
    "        \"kaisai_kai\",\\\n",
    "        \"bamei\",\\\n",
    "        \"umakigo_code\",\\\n",
    "        \"hinshu_code\",\\\n",
    "        \"tozai_shozoku_code\",\\\n",
    "        \"kaisai_tsukihi\",\\\n",
    "        \"keibajo_code\",\\\n",
    "        \"kaisai_nichime\",\\\n",
    "        \"race_bango\",\\\n",
    "        \"kohan_4f\",\\\n",
    "        \"kohan_3f\",\\\n",
    "        \"time_sa\",\\\n",
    "        \"soha_time\",\\\n",
    "        \"corner_1\",\\\n",
    "        \"corner_2\",\\\n",
    "        \"corner_3\",\\\n",
    "        \"corner_4\",\\\n",
    "        \"tansho_ninkijun\",\\\n",
    "        \"kakutoku_honshokin\",\\\n",
    "        \"kakutoku_fukashokin\",\\\n",
    "        \"chakusa_code_1\",\\\n",
    "        \"mining_kubun\",\\\n",
    "        \"yoso_soha_time\",\\\n",
    "        \"yoso_gosa_plus\",\\\n",
    "        \"yoso_gosa_minus\",\\\n",
    "        \"yoso_juni\",\\\n",
    "        \"kyakushitsu_hantei\",\\\n",
    "        \"race_nengappi\"\\\n",
    "        ],axis=1,inplace=True)"
   ]
  },
  {
   "cell_type": "code",
   "execution_count": null,
   "metadata": {},
   "outputs": [],
   "source": [
    "taisho_race_2023.rename(columns={\\\n",
    "                \"wakuban\":\"枠番\",\\\n",
    "                \"umaban\":\"馬番\",\\\n",
    "                \"ketto_toroku_bango\":\"horse_id\",\\\n",
    "                \"seibetsu_code\":\"性\",\\\n",
    "                \"barei\":\"年齢\",\\\n",
    "                \"chokyoshi_code\":\"trainer_id\",\\\n",
    "                \"banushi_code\":\"owner_id\",\\\n",
    "                \"futan_juryo\":\"斤量\",\\\n",
    "                \"kishu_code\":\"jockey_id\",\\\n",
    "                \"bataiju\":\"体重\",\\\n",
    "                \"tansho_odds\":\"単勝\",\\\n",
    "                \"kakutei_chakujun\":\"rank\"\\\n",
    "                },inplace=True)"
   ]
  },
  {
   "cell_type": "code",
   "execution_count": null,
   "metadata": {},
   "outputs": [],
   "source": [
    "taisho_race_2023_k = taisho_race_2023.reindex(columns=[\\\n",
    "                \"枠番\",\\\n",
    "                \"馬番\",\\\n",
    "                \"斤量\",\\\n",
    "                \"単勝\",\\\n",
    "                \"horse_id\",\\\n",
    "                \"jockey_id\",\\\n",
    "                \"trainer_id\",\\\n",
    "                \"owner_id\",\\\n",
    "                \"性\",\\\n",
    "                \"年齢\",\\\n",
    "                \"体重\",\\\n",
    "                \"体重変化\",\\\n",
    "                \"n_horses\",\\\n",
    "                \"rank\"\\\n",
    "                    ])\n"
   ]
  },
  {
   "cell_type": "code",
   "execution_count": null,
   "metadata": {},
   "outputs": [],
   "source": [
    "taisho_race_2023_k\n"
   ]
  },
  {
   "cell_type": "code",
   "execution_count": null,
   "metadata": {},
   "outputs": [],
   "source": [
    "#race_info_2023 = race_info\n",
    "race_info_2023 = race_info[(race_info['kaisai_nen'] == '2023') & (race_info['data_kubun'] == '7')]"
   ]
  },
  {
   "cell_type": "code",
   "execution_count": null,
   "metadata": {},
   "outputs": [],
   "source": [
    "ar_code_list = {\\\n",
    "        \"10\":\"直\",\\\n",
    "        \"11\":\"左\",\\\n",
    "        \"12\":\"左\",\\\n",
    "        \"13\":\"左\",\\\n",
    "        \"14\":\"左\",\\\n",
    "        \"15\":\"左\",\\\n",
    "        \"16\":\"左\",\\\n",
    "        \"17\":\"右\",\\\n",
    "        \"18\":\"右\",\\\n",
    "        \"19\":\"右\",\\\n",
    "        \"20\":\"右\",\\\n",
    "        \"21\":\"右\",\\\n",
    "        \"22\":\"右\",\\\n",
    "        \"23\":\"左\",\\\n",
    "        \"24\":\"右\",\\\n",
    "        \"25\":\"左\",\\\n",
    "        \"26\":\"右\",\\\n",
    "        \"27\":\"左\",\\\n",
    "        \"28\":\"右\",\\\n",
    "        \"29\":\"直\",\\\n",
    "        \"51\":\"障\",\\\n",
    "        \"52\":\"障\",\\\n",
    "        \"53\":\"障\",\\\n",
    "        \"54\":\"障\",\\\n",
    "        \"55\":\"障\",\\\n",
    "        \"56\":\"障\",\\\n",
    "        \"57\":\"障\",\\\n",
    "        \"58\":\"障\",\\\n",
    "        \"59\":\"障\"\\\n",
    "    } "
   ]
  },
  {
   "cell_type": "code",
   "execution_count": null,
   "metadata": {},
   "outputs": [],
   "source": [
    "gr_code_list = {\\\n",
    "        \"10\":\"芝\",\\\n",
    "        \"11\":\"芝\",\\\n",
    "        \"12\":\"芝\",\\\n",
    "        \"13\":\"芝\",\\\n",
    "        \"14\":\"芝\",\\\n",
    "        \"15\":\"芝\",\\\n",
    "        \"16\":\"芝\",\\\n",
    "        \"17\":\"芝\",\\\n",
    "        \"18\":\"芝\",\\\n",
    "        \"19\":\"芝\",\\\n",
    "        \"20\":\"芝\",\\\n",
    "        \"21\":\"芝\",\\\n",
    "        \"22\":\"芝\",\\\n",
    "        \"23\":\"ダ\",\\\n",
    "        \"24\":\"ダ\",\\\n",
    "        \"25\":\"ダ\",\\\n",
    "        \"26\":\"ダ\",\\\n",
    "        \"27\":\"サ\",\\\n",
    "        \"28\":\"サ\",\\\n",
    "        \"29\":\"ダ\",\\\n",
    "        \"51\":\"障\",\\\n",
    "        \"52\":\"障\",\\\n",
    "        \"53\":\"障\",\\\n",
    "        \"54\":\"障\",\\\n",
    "        \"55\":\"障\",\\\n",
    "        \"56\":\"障\",\\\n",
    "        \"57\":\"障\",\\\n",
    "        \"58\":\"障\",\\\n",
    "        \"59\":\"障\"\\\n",
    "    } "
   ]
  },
  {
   "cell_type": "code",
   "execution_count": null,
   "metadata": {},
   "outputs": [],
   "source": [
    "class_code_list = {\\\n",
    "        \"005\":\"１勝クラス\",\\\n",
    "        \"010\":\"２勝クラス\",\\\n",
    "        \"016\":\"３勝クラス\",\\\n",
    "        \"701\":\"新馬\",\\\n",
    "        \"703\":\"未勝利\",\\\n",
    "        \"999\":\"オープン\"\\\n",
    "    } "
   ]
  },
  {
   "cell_type": "code",
   "execution_count": null,
   "metadata": {},
   "outputs": [],
   "source": [
    "grade_code_list = {\\\n",
    "        \"A\":\"Ｇ１\",\\\n",
    "        \"B\":\"Ｇ２\",\\\n",
    "        \"C\":\"Ｇ３\",\\\n",
    "        \"D\":\"その他\",\\\n",
    "        \"E\":\"その他\",\\\n",
    "        \"F\":\"その他\",\\\n",
    "        \"G\":\"その他\",\\\n",
    "        \"H\":\"その他\",\\\n",
    "        \"L\":\"リステッド\",\\\n",
    "        \" \":\"その他\"\\\n",
    "    } "
   ]
  },
  {
   "cell_type": "code",
   "execution_count": null,
   "metadata": {},
   "outputs": [],
   "source": [
    "race_info_2023 = race_info_2023.reindex(columns=[\\\n",
    "                \"kyori\",\\\n",
    "                \"track_code\",\\\n",
    "                \"tenko_code\",\\\n",
    "                \"kaisai_kai\",\\\n",
    "                \"shusso_tosu\",\\\n",
    "                \"kaisai_nen\",\\\n",
    "                \"kaisai_tsukihi\",\\\n",
    "                \"kyoso_joken_code\",\\\n",
    "                \"kyoso_kigo_code\",\\\n",
    "                \"grade_code\"\\\n",
    "                    ])\n"
   ]
  },
  {
   "cell_type": "code",
   "execution_count": null,
   "metadata": {},
   "outputs": [],
   "source": [
    "race_info_2023['around'] = race_info_2023['track_code']\n",
    "race_info_2023['race_type'] = race_info_2023['track_code']\n",
    "race_info_2023['race_class'] = race_info_2023['kyoso_joken_code']\n",
    "race_info_2023.replace({'around': ar_code_list},inplace=True)\n",
    "race_info_2023.replace({'race_type': gr_code_list},inplace=True)\n",
    "race_info_2023.replace({'race_class': class_code_list},inplace=True)\n",
    "race_info_2023.replace({'grade_code': grade_code_list},inplace=True)\n",
    "race_info_2023['race_class'] = race_info_2023.apply(\\\n",
    "        lambda x: x['race_class'] if x['grade_code'] == 'その他' else x['grade_code'] ,\\\n",
    "                    axis=1)"
   ]
  },
  {
   "cell_type": "code",
   "execution_count": null,
   "metadata": {},
   "outputs": [],
   "source": [
    "#race_info_2023['grade_code'].value_counts()\n",
    "race_info_2023\n"
   ]
  },
  {
   "cell_type": "code",
   "execution_count": null,
   "metadata": {},
   "outputs": [],
   "source": [
    "race_info_2023['kyoso_joken_code'].value_counts()"
   ]
  },
  {
   "cell_type": "code",
   "execution_count": null,
   "metadata": {},
   "outputs": [],
   "source": [
    "race_info['around'] = \n",
    "\n",
    "target_data = data.assign(\n",
    "    value_new=lambda x: x.value2.map(lambda y: 1 if y > 0 else 0)\n",
    ")\n",
    "target_data[['value2', 'value_new']]"
   ]
  },
  {
   "cell_type": "code",
   "execution_count": null,
   "metadata": {},
   "outputs": [],
   "source": [
    "horse_results2 = pd.read_pickle('horse_results2.pickle')\n",
    "race_info2 = pd.read_pickle('horse_results2.pickle')"
   ]
  },
  {
   "cell_type": "code",
   "execution_count": null,
   "metadata": {},
   "outputs": [],
   "source": [
    "horse_results2.index.value_counts()"
   ]
  },
  {
   "cell_type": "code",
   "execution_count": null,
   "metadata": {},
   "outputs": [],
   "source": []
  }
 ],
 "metadata": {
  "kernelspec": {
   "display_name": "Python 3",
   "language": "python",
   "name": "python3"
  },
  "language_info": {
   "codemirror_mode": {
    "name": "ipython",
    "version": 3
   },
   "file_extension": ".py",
   "mimetype": "text/x-python",
   "name": "python",
   "nbconvert_exporter": "python",
   "pygments_lexer": "ipython3",
   "version": "3.12.2"
  }
 },
 "nbformat": 4,
 "nbformat_minor": 2
}
